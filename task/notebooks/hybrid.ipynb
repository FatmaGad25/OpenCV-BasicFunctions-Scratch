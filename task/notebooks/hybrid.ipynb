{
 "cells": [
  {
   "cell_type": "code",
   "execution_count": 1,
   "metadata": {},
   "outputs": [
    {
     "name": "stdout",
     "output_type": "stream",
     "text": [
      "importing Jupyter notebook from filters.ipynb\n",
      "importing Jupyter notebook from noise.ipynb\n",
      "importing Jupyter notebook from basicfuncs_nb.ipynb\n"
     ]
    }
   ],
   "source": [
    "import import_ipynb\n",
    "import numpy as np\n",
    "import matplotlib.pyplot as plt\n",
    "from matplotlib.image import imread\n",
    "from skimage.transform import resize\n",
    "from filters import *\n",
    "from EdgeDetection import *"
   ]
  },
  {
   "cell_type": "code",
   "execution_count": 2,
   "metadata": {},
   "outputs": [],
   "source": [
    "## import main\n",
    "# def ConvertToGaryscale(ColoredImage):\n",
    "    \n",
    "#     Red, Green, Blue = ColoredImage[:,:,0], ColoredImage[:,:,1], ColoredImage[:,:,2]\n",
    "#     GrayscaleImage = 0.299 * Red + 0.587 * Green + 0.114 * Blue\n",
    "\n",
    "#     return GrayscaleImage"
   ]
  },
  {
   "cell_type": "code",
   "execution_count": 3,
   "metadata": {},
   "outputs": [],
   "source": [
    "# ## main\n",
    "# einstein = imread(\"Downloads/IMG-20220313-WA0173.jpg\")\n",
    "# einstein = ConvertToGaryscale(einstein)\n",
    "\n",
    "\n",
    "# marlyin = imread(\"Downloads/b59b282280e8826c2c421c291f33548b.jpg\")\n",
    "# marlyin = ConvertToGaryscale(marlyin)\n",
    "\n",
    "# einstein = resize(einstein, marlyin.shape,anti_aliasing = True)\n",
    "\n",
    "\n",
    "\n"
   ]
  },
  {
   "cell_type": "code",
   "execution_count": 4,
   "metadata": {},
   "outputs": [],
   "source": [
    "# def low_pass_filter(img2):\n",
    "#         row, col = img2.shape\n",
    "#         mask2 = np.zeros((row, col))\n",
    "#         avgMask2= np.ones((9,9))/81\n",
    "#         mask2[:9,:9] = avgMask2\n",
    "#         mask2 = np.fft.fftshift(np.fft.fft2(mask2))\n",
    "#         image2 = np.fft.fftshift(np.fft.fft2(img2))\n",
    "#         img_new2 = np.fft.ifft2((mask2)*(image2))\n",
    "#         img_new2 = np.abs(img_new2)\n",
    "#         return img_new2\n"
   ]
  },
  {
   "cell_type": "code",
   "execution_count": 5,
   "metadata": {},
   "outputs": [],
   "source": [
    "# def high_pass_filter(img):\n",
    "#         row, col = img.shape\n",
    "#         mask = np.zeros((row, col))\n",
    "#         hpf=np.array([[-1,0,1],\n",
    "#                            [-2,0,2],\n",
    "#                            [-1,0,1]])  \n",
    "# #         hpf = np.array([[-1,-2,-1],[0,0,0],[1,2,1]])\n",
    "#         mask[:3,:3] = hpf\n",
    "#         #convert to frequency domain using fft\n",
    "#         mask = np.fft.fftshift(np.fft.fft2(mask))\n",
    "#         image = np.fft.fftshift(np.fft.fft2(img))\n",
    "#         #return mask * image to a new image\n",
    "#         img_new = np.fft.ifft2(mask*image)\n",
    "#         img_new = np.abs(img_new)\n",
    "#         return img_new"
   ]
  },
  {
   "cell_type": "code",
   "execution_count": 6,
   "metadata": {},
   "outputs": [],
   "source": [
    "# marl_image = low_pass_filter(marlyin)\n",
    "# ein_image = high_pass_filter(einstein)\n",
    "# plt.figure(figsize = (8,8))\n",
    "# plt.imshow(marl_image, cmap=\"gray\")"
   ]
  },
  {
   "cell_type": "code",
   "execution_count": 7,
   "metadata": {},
   "outputs": [],
   "source": [
    "# plt.figure(figsize = (8,8))\n",
    "# plt.imshow(ein_image, cmap=\"gray\")"
   ]
  },
  {
   "cell_type": "code",
   "execution_count": null,
   "metadata": {},
   "outputs": [],
   "source": []
  },
  {
   "cell_type": "code",
   "execution_count": 10,
   "metadata": {},
   "outputs": [],
   "source": [
    "# fig, axs = plt.subplots(nrows=1, ncols=2,figsize = (16, 16))\n",
    "\n",
    "# image = gaussian_filter(marlyin,5)\n",
    "\n",
    "# axs[0].imshow(marlyin,cmap = \"gray\")\n",
    "# axs[1].imshow(image,cmap = \"gray\")\n"
   ]
  },
  {
   "cell_type": "code",
   "execution_count": 11,
   "metadata": {},
   "outputs": [],
   "source": [
    "\n",
    "### import\n",
    "\n",
    "# def Sobel(image):\n",
    "#     SobelKernalX=np.array([[-1,0,1],\n",
    "#                            [-2,0,2],\n",
    "#                            [-1,0,1]])                           \n",
    "#     SobelKernalY=np.flip(SobelKernalX.transpose())\n",
    "#     SobelImage=Convolve(image,SobelKernalX,SobelKernalY)\n",
    "#     return SobelImage\n",
    "\n"
   ]
  },
  {
   "cell_type": "code",
   "execution_count": 13,
   "metadata": {},
   "outputs": [],
   "source": [
    "def hybrid(marlyin,einstein):\n",
    "    marl = gaussian_filter(marlyin,5)\n",
    "    ein = Sobel(einstein)\n",
    "    final_image = (0.8*marl) + (0.2*ein)\n",
    "    return final_image"
   ]
  },
  {
   "cell_type": "code",
   "execution_count": null,
   "metadata": {},
   "outputs": [],
   "source": []
  },
  {
   "cell_type": "code",
   "execution_count": null,
   "metadata": {},
   "outputs": [],
   "source": []
  }
 ],
 "metadata": {
  "kernelspec": {
   "display_name": "Python 3",
   "language": "python",
   "name": "python3"
  },
  "language_info": {
   "codemirror_mode": {
    "name": "ipython",
    "version": 3
   },
   "file_extension": ".py",
   "mimetype": "text/x-python",
   "name": "python",
   "nbconvert_exporter": "python",
   "pygments_lexer": "ipython3",
   "version": "3.8.8"
  }
 },
 "nbformat": 4,
 "nbformat_minor": 4
}
