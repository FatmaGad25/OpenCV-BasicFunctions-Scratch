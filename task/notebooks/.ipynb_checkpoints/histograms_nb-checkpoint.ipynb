{
 "cells": [
  {
   "cell_type": "code",
   "execution_count": 1,
   "id": "a1eb6c16",
   "metadata": {},
   "outputs": [
    {
     "name": "stdout",
     "output_type": "stream",
     "text": [
      "importing Jupyter notebook from basicfuncs_nb.ipynb\n"
     ]
    }
   ],
   "source": [
    "import numpy as np\n",
    "from matplotlib import pyplot as plt\n",
    "import import_ipynb\n",
    "from basicfuncs_nb import *"
   ]
  },
  {
   "cell_type": "code",
   "execution_count": 3,
   "id": "fcd2e972",
   "metadata": {},
   "outputs": [],
   "source": [
    "#this method to draw histogram for each intenisty discrete or cont.\n",
    "#in this function we count the number of each intensity\n",
    "#officially we use it\n",
    "def Histo(image,bins):\n",
    "    H = np.zeros(shape = (bins,1))#bins is 2 power n bits but in our images we use 3 8 bits so we substitute by 256\n",
    "    s = image.shape #to get rows and columns\n",
    "    for i in range (s[0]):\n",
    "        for j in range(s[1]):\n",
    "            k=image[i,j]##get each intensity\n",
    "            H[k,0]+=1\n",
    "    return H #this will return array of number of intensities"
   ]
  },
  {
   "cell_type": "code",
   "execution_count": 4,
   "id": "6aba49b7",
   "metadata": {},
   "outputs": [],
   "source": [
    "#cdf\n",
    "def cumulative_distrubution(given):\n",
    "    hist= iter(given)\n",
    "    b = [next(hist)]\n",
    "    for i in hist:\n",
    "        b.append(b[-1] + i)\n",
    "    \n",
    "    b = np.array(b)\n",
    "    mx,mn=max_min(b)\n",
    "    curve= ((b - mn) * 255)/(mx - mn)#to get the cumulative curve of 8 bits image\n",
    "\n",
    "    return curve"
   ]
  },
  {
   "cell_type": "code",
   "execution_count": 5,
   "id": "70c6b1cd",
   "metadata": {},
   "outputs": [],
   "source": [
    "#draw histogram as continuous curve for colored image\n",
    "def draw_histogram_rgb(hist_1,hist_2,hist_3,bins):\n",
    "    l_int=[]\n",
    "    for i in range(0,bins):\n",
    "        l_int.append(i)\n",
    "    plt.plot(l_int,hist_1,color=\"red\")\n",
    "    plt.plot(l_int,hist_2,color=\"green\")\n",
    "    plt.plot(l_int,hist_3,color=\"blue\")"
   ]
  },
  {
   "cell_type": "code",
   "execution_count": 6,
   "id": "08690dd7",
   "metadata": {},
   "outputs": [],
   "source": [
    "#draw histogram as continuous curve for grey image\n",
    "def draw_histogram_grey(hist,bins):\n",
    "    l_int=[]\n",
    "    for i in range(0,bins):\n",
    "        l_int.append(i)\n",
    "    plt.plot(l_int,hist,color=\"black\")"
   ]
  },
  {
   "cell_type": "code",
   "execution_count": 7,
   "id": "efce5d14",
   "metadata": {},
   "outputs": [],
   "source": [
    "#draw histogram as bars  for color image\n",
    "def draw_histogram_bars_rgb(hist_1,hist_2,hist_3,bins):\n",
    "    l_int=[]\n",
    "    for i in range(0,bins):\n",
    "        l_int.append(i)\n",
    "    \n",
    "    figure, axis = plt.subplots(3, 1, figsize = (35,35))\n",
    "  \n",
    "    # For blue channel\n",
    "    axis[0].bar(l_int,hist_1.ravel(),width=5,color='Red',edgecolor='black', align='center')\n",
    "    axis[0].set_title(\"Red Channel\")\n",
    "\n",
    "    # For green channel\n",
    "    axis[1].bar(l_int,hist_2.ravel(),width=5,color='Green',edgecolor='black', align='center')\n",
    "    axis[1].set_title(\"Green Channel\")\n",
    "\n",
    "    # For red channel\n",
    "    axis[2].bar(l_int,hist_3.ravel(),width=5,color='Blue',edgecolor='black', align='center')\n",
    "    axis[2].set_title(\"Blue Channel\")"
   ]
  },
  {
   "cell_type": "code",
   "execution_count": 8,
   "id": "808f4ab5",
   "metadata": {},
   "outputs": [],
   "source": [
    "#draw histogram as bars  for gray image\n",
    "def draw_histogram_bars_grey(hist,bins):\n",
    "    l_int=[]\n",
    "    for i in range(0,bins):\n",
    "        l_int.append(i)\n",
    "     \n",
    "    figure, axis = plt.subplots()\n",
    "  \n",
    "    # For the grey channel\n",
    "    axis.bar(l_int,hist.ravel(),width=5,color='black',edgecolor='yellow', align='center')\n",
    "    axis.set_title(\"grey image Channel\")\n",
    "\n",
    "    "
   ]
  },
  {
   "cell_type": "code",
   "execution_count": 9,
   "id": "0e5e8a9a",
   "metadata": {},
   "outputs": [],
   "source": [
    "#another representation with lines for rgb \n",
    "def draw_lines_rgb(hist_1,hist_2,hist_3,bins):\n",
    "    l_int=[]\n",
    "    for i in range(0,bins):\n",
    "        l_int.append(i)\n",
    "    \n",
    "    figure, axis = plt.subplots(3, 1, figsize = (35, 35))\n",
    "\n",
    "    axis[0].stem(l_int, hist_1)\n",
    "    axis[0].set_title(\"Red Channel\")\n",
    "\n",
    "    axis[1].stem(l_int, hist_2)\n",
    "    axis[1].set_title(\"Green Channel\")\n",
    "\n",
    "    axis[2].stem(l_int, hist_3)\n",
    "    axis[2].set_title(\"Blue Channel\")\n"
   ]
  },
  {
   "cell_type": "code",
   "execution_count": 10,
   "id": "0cb952d7",
   "metadata": {},
   "outputs": [],
   "source": [
    "#another representation with lines for grey \n",
    "def draw_lines_grey(hist,bins):\n",
    "    l_int=[]\n",
    "    for i in range(0,bins):\n",
    "        l_int.append(i)\n",
    "    \n",
    "    figure, axis = plt.subplots()\n",
    "\n",
    "    axis.stem(l_int, hist)\n",
    "    axis.set_title(\"grey image Channel\")"
   ]
  },
  {
   "cell_type": "code",
   "execution_count": 11,
   "id": "f6bfe7d0",
   "metadata": {},
   "outputs": [],
   "source": [
    "#draw the cumulative curve for rgb image\n",
    "def draw_cumulative_rgb(hist_1,hist_2,hist_3):\n",
    "    figure, axis = plt.subplots(3, 1, figsize = (35, 35))\n",
    "\n",
    "    curve1=cumulative_distrubution(hist_1)\n",
    "    curve2=cumulative_distrubution(hist_2)\n",
    "    curve3= cumulative_distrubution(hist_3)\n",
    "\n",
    "    axis[0].plot(curve1)\n",
    "    axis[0].set_title(\"Red Channel\")\n",
    "\n",
    "    axis[1].plot(curve2)\n",
    "    axis[1].set_title(\"Green Channel\")\n",
    "\n",
    "    axis[2].plot(curve3)\n",
    "    axis[2].set_title(\"Blue Channel\")"
   ]
  },
  {
   "cell_type": "code",
   "execution_count": 12,
   "id": "fe8b34bb",
   "metadata": {},
   "outputs": [],
   "source": [
    "#draw the cumulative curve for grey image\n",
    "def draw_cumulative_grey(hist):\n",
    "    figure, axis = plt.subplots()\n",
    "\n",
    "    curve1=cumulative_distrubution(hist)\n",
    "    \n",
    "    axis.plot(curve1)\n",
    "    axis.set_title(\"grey image Channel\")\n",
    "\n",
    "    "
   ]
  },
  {
   "cell_type": "code",
   "execution_count": 13,
   "id": "b25440af",
   "metadata": {},
   "outputs": [],
   "source": [
    "#equalization\n",
    "#to make the number of intensities be closer to each other\n",
    "def equalization(image):    \n",
    "    eq_img=np.zeros(image.shape,dtype='uint8')#to make an array with the same shape of image\n",
    "    #for grey image\n",
    "    if len(image.shape) < 3:\n",
    "        n,m=image.shape\n",
    "#         print(n,m)\n",
    "        H = Histo(image,256)\n",
    "        x = H.reshape(1,256)\n",
    "        y = np.array([])\n",
    "        y=np.append(y,x[0,0])\n",
    "        for i in range (255):\n",
    "            k = x[0,i+1]+y[i]\n",
    "            y = np.append(y,k)\n",
    "        y = np.round((y/(n*m))*255)\n",
    "#         print(y)\n",
    "        for i in range(n):\n",
    "            for j in range (m):\n",
    "                k = image[i,j]\n",
    "                eq_img[i,j] = y[k]    \n",
    "    else:\n",
    "        #for color image\n",
    "        n,m,c = image.shape\n",
    "        for o in range(c):\n",
    "            H = Histo(image[:,:,o],256)\n",
    "            x = H.reshape(1,256)\n",
    "            y = np.array([])\n",
    "            y=np.append(y,x[0,0])\n",
    "            for i in range (255):\n",
    "                k = x[0,i+1]+y[i]\n",
    "                y = np.append(y,k)\n",
    "            y = np.round((y/(n*m))*255)\n",
    "            for i in range(n):\n",
    "                for j in range (m):\n",
    "                    k = image[i,j,o]\n",
    "                    eq_img[i,j,o] = y[k]\n",
    "\n",
    "    return eq_img"
   ]
  },
  {
   "cell_type": "code",
   "execution_count": null,
   "id": "6afec63e",
   "metadata": {},
   "outputs": [],
   "source": []
  }
 ],
 "metadata": {
  "kernelspec": {
   "display_name": "Python 3 (ipykernel)",
   "language": "python",
   "name": "python3"
  },
  "language_info": {
   "codemirror_mode": {
    "name": "ipython",
    "version": 3
   },
   "file_extension": ".py",
   "mimetype": "text/x-python",
   "name": "python",
   "nbconvert_exporter": "python",
   "pygments_lexer": "ipython3",
   "version": "3.8.11"
  }
 },
 "nbformat": 4,
 "nbformat_minor": 5
}
