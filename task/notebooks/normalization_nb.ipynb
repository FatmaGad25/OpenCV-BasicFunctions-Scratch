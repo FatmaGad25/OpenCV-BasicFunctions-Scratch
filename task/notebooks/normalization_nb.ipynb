{
 "cells": [
  {
   "cell_type": "code",
   "execution_count": 1,
   "id": "e1b18d1f",
   "metadata": {},
   "outputs": [
    {
     "name": "stdout",
     "output_type": "stream",
     "text": [
      "importing Jupyter notebook from basicfuncs_nb.ipynb\n"
     ]
    }
   ],
   "source": [
    "import import_ipynb\n",
    "from basicfuncs_nb import *\n",
    "import numpy as np"
   ]
  },
  {
   "cell_type": "code",
   "execution_count": 2,
   "id": "a4167303",
   "metadata": {},
   "outputs": [],
   "source": [
    "#normalization function with max and min equation for grey and color images\n",
    "def normalization(img,newmax,newmin):\n",
    "    norm_img=np.zeros(img.shape,dtype='uint8')\n",
    "#     print(norm_img.shape)\n",
    "#for grey scale with only one channel\n",
    "    if len(img.shape) <3:\n",
    "        m,n=img.shape\n",
    "        max_c,min_c=max_min(img)\n",
    "#         print(max_c,min_c)\n",
    "        for i in range(m):\n",
    "            for j in range(n):\n",
    "                norm_img[i,j]=(((img[i,j]-min_c)/(max_c-min_c))*(newmax-newmin))+newmin#the equation\n",
    "#for color image with 3 channels     \n",
    "    else:\n",
    "        m,n,c = img.shape\n",
    "        for k in range(c):\n",
    "            max_c,min_c=max_min(img[:,:,k])\n",
    "#             print(max_c,min_c)\n",
    "            for i in range(m):\n",
    "                for j in range(n):\n",
    "                    norm_img[i,j,k]=(((img[i,j,k]-min_c)/(max_c-min_c))*(newmax-newmin))+newmin#the equation\n",
    "    return norm_img"
   ]
  },
  {
   "cell_type": "code",
   "execution_count": 3,
   "id": "3a72d32e",
   "metadata": {},
   "outputs": [],
   "source": [
    "#normalization function with mean and standrd deviation\n",
    "def normalization_eq(img):\n",
    "    norm_img=np.zeros(img.shape,dtype='uint8')\n",
    "    mean= get_mean(img)\n",
    "    stddev= get_stdev(img)\n",
    "    #grey image\n",
    "    if len(img.shape) <3:\n",
    "        m,n=img.shape\n",
    "        for i in range(m):\n",
    "            for j in range(n):\n",
    "                norm_img[i,j]=(img[i,j]-mean)/stddev#equation usinf mean and standard deviation\n",
    "        \n",
    "    else:\n",
    "        #color image\n",
    "        m,n,c = img.shape        \n",
    "#         print(norm_img.shape)      \n",
    "        for k in range(c):\n",
    "            mean_c= mean[k]\n",
    "            stddev_c=stddev[k]\n",
    "            for i in range(m):\n",
    "                for j in range(n):\n",
    "                    norm_img[i,j,k]=(img[i,j,k]-mean_c)/stddev_c #equation usinf mean and standard deviation\n",
    "\n",
    "    return norm_img"
   ]
  },
  {
   "cell_type": "code",
   "execution_count": null,
   "id": "6a204007",
   "metadata": {},
   "outputs": [],
   "source": []
  }
 ],
 "metadata": {
  "kernelspec": {
   "display_name": "Python 3",
   "language": "python",
   "name": "python3"
  },
  "language_info": {
   "codemirror_mode": {
    "name": "ipython",
    "version": 3
   },
   "file_extension": ".py",
   "mimetype": "text/x-python",
   "name": "python",
   "nbconvert_exporter": "python",
   "pygments_lexer": "ipython3",
   "version": "3.8.8"
  }
 },
 "nbformat": 4,
 "nbformat_minor": 5
}
