{
 "cells": [
  {
   "cell_type": "code",
   "execution_count": 1,
   "id": "1bec1622",
   "metadata": {},
   "outputs": [
    {
     "name": "stdout",
     "output_type": "stream",
     "text": [
      "importing Jupyter notebook from noise.ipynb\n",
      "importing Jupyter notebook from basicfuncs_nb.ipynb\n"
     ]
    }
   ],
   "source": [
    "import numpy as np\n",
    "import random\n",
    "from matplotlib import pyplot as plt\n",
    "%matplotlib inline\n",
    "import os\n",
    "import import_ipynb\n",
    "import noise\n",
    "from noise import *\n",
    "from basicfuncs_nb import *\n",
    "from Convolution import *"
   ]
  },
  {
   "cell_type": "code",
   "execution_count": 2,
   "id": "fcc6b570",
   "metadata": {},
   "outputs": [],
   "source": [
    "def gaussian_filter(img,sigma):\n",
    "#     The Gauusian kernal depends on the sigma in the described equation\n",
    "    filter_size = 2 * int(4 * sigma + 0.5) + 1\n",
    "    \n",
    "#     Create The filters\n",
    "    GAUSSIAN_KERNEL = np.zeros((filter_size, filter_size))\n",
    "\n",
    "    m = filter_size//2\n",
    "    n = filter_size//2    \n",
    "#     Loop over every element in the kernal and calculate it\n",
    "    for x in range(-m, m+1):\n",
    "        for y in range(-n, n+1):\n",
    "            x1 = 2*np.pi*(sigma**2)\n",
    "            x2 = np.exp(-(x**2 + y**2)/(2* sigma**2))\n",
    "            GAUSSIAN_KERNEL[x+m, y+n] = x2/x1    \n",
    "            \n",
    "    # img_new = np.zeros(img.shape)\n",
    "#    Convolve The image and the filter \n",
    "    img_new = Convolve(img, GAUSSIAN_KERNEL,np.zeros(GAUSSIAN_KERNEL.shape))\n",
    "    return img_new"
   ]
  },
  {
   "cell_type": "code",
   "execution_count": 3,
   "id": "56ba5718",
   "metadata": {},
   "outputs": [],
   "source": [
    "def median(img):\n",
    "    \n",
    "#     Create a copy and check the channels size as before\n",
    "    cpy = np.copy(img)\n",
    "    if len(cpy.shape) == 2:\n",
    "        cpy = np.expand_dims(cpy, -1)\n",
    "    row, col, channels = cpy.shape\n",
    "    \n",
    "#     Create a copy to carry the output\n",
    "    new_img = np.zeros(cpy.shape)\n",
    "    \n",
    "#     Create an array to carry the means of each window in the whole image\n",
    "    elements = [(0,0,0)] * 9\n",
    "#     Loop Over the channels, rows, columns\n",
    "    for ch in range(channels):\n",
    "        for i in range(1, row-1):\n",
    "            for j in range(1, col-1):\n",
    "                \n",
    "#                 Collect the values of the nine pixels arround the centered pixel\n",
    "                elements[0] = cpy[i-1,j-1,ch]\n",
    "                elements[1] = cpy[i-1,j,ch]\n",
    "                elements[2] = cpy[i-1,j+1,ch]\n",
    "                elements[3] = cpy[i,j-1,ch]\n",
    "                elements[4] = cpy[i,j,ch]\n",
    "                elements[5] = cpy[i,j+1,ch]\n",
    "                elements[6] = cpy[i+1,j-1,ch]\n",
    "                elements[7] = cpy[i+1,j,ch]\n",
    "                elements[8] = cpy[i+1,j+1,ch]\n",
    "#               Sort the values and replace the center with the median value \n",
    "                elements.sort()\n",
    "                new_img[i,j,ch] = elements[4]\n",
    "    return new_img"
   ]
  },
  {
   "cell_type": "code",
   "execution_count": 4,
   "id": "11b7723f",
   "metadata": {},
   "outputs": [],
   "source": [
    "def averaging_filter(img):\n",
    "#     expand the grayscaled images dimensions to enter the channels loop (channels=1)\n",
    "    cpy = np.copy(img)\n",
    "    if len(cpy.shape) == 2:\n",
    "        cpy = np.expand_dims(cpy, -1)\n",
    "        \n",
    "    row, col, channels = cpy.shape\n",
    "    \n",
    "    # Create the avarge kernal(mask, all ones devided by nine(3*3))\n",
    "    mask = np.ones([3, 3], dtype = int)\n",
    "    mask = mask / 9\n",
    "    \n",
    "    # Convolve the 3*3 mask and the image\n",
    "    img_new = Convolve(cpy[:,:,0], mask,np.zeros(mask.shape))\n",
    "    \n",
    "    return img_new"
   ]
  },
  {
   "cell_type": "code",
   "execution_count": null,
   "id": "108db3d7",
   "metadata": {},
   "outputs": [],
   "source": []
  }
 ],
 "metadata": {
  "kernelspec": {
   "display_name": "Python 3",
   "language": "python",
   "name": "python3"
  },
  "language_info": {
   "codemirror_mode": {
    "name": "ipython",
    "version": 3
   },
   "file_extension": ".py",
   "mimetype": "text/x-python",
   "name": "python",
   "nbconvert_exporter": "python",
   "pygments_lexer": "ipython3",
   "version": "3.8.8"
  }
 },
 "nbformat": 4,
 "nbformat_minor": 5
}
