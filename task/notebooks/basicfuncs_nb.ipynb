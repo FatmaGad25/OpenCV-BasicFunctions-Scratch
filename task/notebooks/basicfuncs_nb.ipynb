{
 "cells": [
  {
   "cell_type": "code",
   "execution_count": 1,
   "id": "a4978e29",
   "metadata": {},
   "outputs": [],
   "source": [
    "import numpy as np\n",
    "from ConvertToGrayscale import ConvertToGaryscale"
   ]
  },
  {
   "cell_type": "code",
   "execution_count": 2,
   "id": "b561de93",
   "metadata": {},
   "outputs": [],
   "source": [
    "# def ConvertToGaryscale(ColoredImage):\n",
    "    \n",
    "#     Red, Green, Blue = ColoredImage[:,:,0], ColoredImage[:,:,1], ColoredImage[:,:,2]\n",
    "#     GrayscaleImage = 0.299 * Red + 0.587 * Green + 0.114 * Blue\n",
    "\n",
    "#     return GrayscaleImage\n"
   ]
  },
  {
   "cell_type": "code",
   "execution_count": 3,
   "id": "75423f29",
   "metadata": {},
   "outputs": [],
   "source": [
    "# def Threshold(image,High,Low , Weak):\n",
    "#     ResultantImage = np.zeros(image.shape)\n",
    "#     HighNumbersRow, HighNumbersColumn = np.where(image >= High)\n",
    "#     LowNumbersRow, LowNumbersColumn = np.where((image <= High) & (image >= Low))\n",
    "#     ResultantImage[HighNumbersRow, HighNumbersColumn] = 255\n",
    "#     ResultantImage[LowNumbersRow, LowNumbersColumn] =Weak \n",
    "#     return ResultantImage  \n",
    "  "
   ]
  },
  {
   "cell_type": "code",
   "execution_count": 4,
   "id": "898bb556",
   "metadata": {},
   "outputs": [],
   "source": [
    "#find maximum and minimum for the input array\n",
    "def max_min(arr):\n",
    "    n,m=arr.shape[:2]\n",
    "    mx=0\n",
    "    mn=0\n",
    "    for i in range (n):\n",
    "        for j in range(m):\n",
    "            if arr[i,j] > mx:\n",
    "                mx=arr[i,j]\n",
    "            elif arr[i,j] < mn:\n",
    "                mn=arr[i,j]\n",
    "    return mx,mn"
   ]
  },
  {
   "cell_type": "code",
   "execution_count": 5,
   "id": "cff677cd",
   "metadata": {},
   "outputs": [],
   "source": [
    "#mean function for image channels\n",
    "def get_mean(img):\n",
    "    l_channels=[]\n",
    "    l_means=[]\n",
    "#grey images\n",
    "    if len(img.shape) <3:\n",
    "        m,n=img.shape\n",
    "        sum_val=0\n",
    "        for i in range(m):\n",
    "            for j in range(n):\n",
    "                sum_val+=img[i, j]\n",
    "        l_channels.append(sum_val)\n",
    "        for channel in l_channels: \n",
    "            mean= channel/(m*n)\n",
    "            l_means.append(mean)\n",
    "        \n",
    "#color images\n",
    "    else:\n",
    "        m,n,c=img.shape\n",
    "        #to get mean for each channel\n",
    "        for k in range(c):\n",
    "            sum_val=0\n",
    "            for i in range(m):\n",
    "                for j in range(n):\n",
    "                    sum_val+=img[i, j,k]\n",
    "            l_channels.append(sum_val)\n",
    "        for channel in l_channels: \n",
    "            mean= channel/(m*n)\n",
    "            l_means.append(mean)\n",
    "        \n",
    "    return l_means"
   ]
  },
  {
   "cell_type": "code",
   "execution_count": 6,
   "id": "c1d1b5ef",
   "metadata": {},
   "outputs": [],
   "source": [
    "#standard deviation function for image channels\n",
    "def get_stdev(img): \n",
    "    \n",
    "    l_sums=[]\n",
    "    l_dev=[]\n",
    "#grey image\n",
    "    if len(img.shape) <3:\n",
    "        m,n=img.shape\n",
    "        mean= get_mean(img)\n",
    "        sum_val=0\n",
    "        for i in range(m):\n",
    "            for j in range(n):\n",
    "                sum_val+=((img[i,j]-mean)**2)\n",
    "        l_sums.append(sum_val)\n",
    "        \n",
    "        for l_sum in l_sums:\n",
    "            dev=np.sqrt(l_sum/(m*n))\n",
    "            l_dev.append(dev)\n",
    "#color image\n",
    "    else:\n",
    "        m,n,c=img.shape\n",
    "           \n",
    "    #to get standard deviation for each channel\n",
    "        for k in range(c):\n",
    "            mean= get_mean(img)[k]\n",
    "            sum_val=0\n",
    "            for i in range(m):\n",
    "                for j in range(n):\n",
    "                    sum_val+=((img[i,j,k]-mean)**2)\n",
    "            l_sums.append(sum_val)\n",
    "\n",
    "        for l_sum in l_sums:\n",
    "            dev=np.sqrt(l_sum/(m*n))\n",
    "            l_dev.append(dev)\n",
    "        \n",
    "    return l_dev"
   ]
  },
  {
   "cell_type": "code",
   "execution_count": 7,
   "id": "4dac0c31",
   "metadata": {},
   "outputs": [],
   "source": [
    "\n",
    "# def Convolve(Image,Gx,Gy):\n",
    "#     if len(Image.shape) == 3:\n",
    "#         Image = ConvertToGaryscale(Image)\n",
    "#     # print(len(Gx[0]))\n",
    "#     # print(len(Gy[0]))\n",
    "\n",
    "#     ImageNumberOfRows,ImageNumberOfColumns=Image.shape\n",
    "    \n",
    "#     KernalNumberOfRows, KernalNumberOfColumns = Gx.shape\n",
    "#     PaddedHight = int((KernalNumberOfRows - 1) / 2)\n",
    "#     PaddedWidth = int((KernalNumberOfColumns - 1) / 2)\n",
    "#     PaddedImage = np.zeros((ImageNumberOfRows + (2 * PaddedHight), ImageNumberOfColumns + (2 * PaddedWidth)))\n",
    "\n",
    "#     PaddedImage[ PaddedHight : PaddedImage.shape[0] - PaddedHight,PaddedWidth : PaddedImage.shape[1] - PaddedWidth,] = Image\n",
    "#     ResultantImage = np.ones([ImageNumberOfRows,ImageNumberOfColumns]) \n",
    "#     for row in range(ImageNumberOfRows):\n",
    "#         for column in range(ImageNumberOfColumns):\n",
    "\n",
    "#             if(Gy.any() == 0):\n",
    "#                 ResultantImage[row,column]=np.sum(np.multiply(Gx,PaddedImage[row:row+KernalNumberOfRows,column:column+KernalNumberOfColumns]))  \n",
    "#             else: \n",
    "#                 PixelValueX=np.sum(np.multiply(Gx,PaddedImage[row:row+KernalNumberOfRows,column:column+KernalNumberOfColumns])) \n",
    "#                 PixelValueY=np.sum(np.multiply(Gy,PaddedImage[row:row+KernalNumberOfRows,column:column+KernalNumberOfColumns]))\n",
    "#                 ResultantImage[row,column]=np.sqrt(PixelValueX**2+PixelValueY**2)\n",
    "\n",
    "              \n",
    "#     return ResultantImage"
   ]
  },
  {
   "cell_type": "code",
   "execution_count": null,
   "id": "0e719493",
   "metadata": {},
   "outputs": [],
   "source": [
    "\n"
   ]
  }
 ],
 "metadata": {
  "kernelspec": {
   "display_name": "Python 3",
   "language": "python",
   "name": "python3"
  },
  "language_info": {
   "codemirror_mode": {
    "name": "ipython",
    "version": 3
   },
   "file_extension": ".py",
   "mimetype": "text/x-python",
   "name": "python",
   "nbconvert_exporter": "python",
   "pygments_lexer": "ipython3",
   "version": "3.8.8"
  }
 },
 "nbformat": 4,
 "nbformat_minor": 5
}
